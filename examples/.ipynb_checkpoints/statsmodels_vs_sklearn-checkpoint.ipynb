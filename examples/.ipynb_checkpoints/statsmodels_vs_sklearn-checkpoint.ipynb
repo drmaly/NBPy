{
 "cells": [
  {
   "cell_type": "code",
   "execution_count": 1,
   "id": "8a074df7",
   "metadata": {},
   "outputs": [],
   "source": [
    "import time\n",
    "import numpy as np\n",
    "import pandas as pd\n",
    "import scipy.stats\n",
    "import statsmodels.formula.api as smf\n",
    "import statsmodels.regression.linear_model as slin\n",
    "\n",
    "from sklearn import linear_model"
   ]
  },
  {
   "cell_type": "code",
   "execution_count": 2,
   "id": "92f497bf",
   "metadata": {},
   "outputs": [],
   "source": [
    "predictor_cols = ['Group', 'Sex', 'Age']"
   ]
  },
  {
   "cell_type": "markdown",
   "id": "0d96385e",
   "metadata": {},
   "source": [
    "### 1. Load sample input dataset\n",
    "\n",
    "This dataset contains `exog` (Group, Sex and Age) and `endog` variables (fMRI brain map interconnections)"
   ]
  },
  {
   "cell_type": "code",
   "execution_count": 3,
   "id": "4e3901df",
   "metadata": {},
   "outputs": [
    {
     "data": {
      "text/html": [
       "<div>\n",
       "<style scoped>\n",
       "    .dataframe tbody tr th:only-of-type {\n",
       "        vertical-align: middle;\n",
       "    }\n",
       "\n",
       "    .dataframe tbody tr th {\n",
       "        vertical-align: top;\n",
       "    }\n",
       "\n",
       "    .dataframe thead th {\n",
       "        text-align: right;\n",
       "    }\n",
       "</style>\n",
       "<table border=\"1\" class=\"dataframe\">\n",
       "  <thead>\n",
       "    <tr style=\"text-align: right;\">\n",
       "      <th></th>\n",
       "      <th>Group</th>\n",
       "      <th>Sex</th>\n",
       "      <th>Age</th>\n",
       "      <th>FAG_FAD</th>\n",
       "      <th>FAG_F1G</th>\n",
       "      <th>FAD_F1G</th>\n",
       "      <th>FAG_F1D</th>\n",
       "      <th>FAD_F1D</th>\n",
       "      <th>F1G_F1D</th>\n",
       "      <th>FAG_F1OG</th>\n",
       "      <th>...</th>\n",
       "      <th>ORD_GRD</th>\n",
       "      <th>SMAG_GRD</th>\n",
       "      <th>SMAD_GRD</th>\n",
       "      <th>COBG_GRD</th>\n",
       "      <th>COBD_GRD</th>\n",
       "      <th>FMG_GRD</th>\n",
       "      <th>FMD_GRD</th>\n",
       "      <th>FMOG_GRD</th>\n",
       "      <th>FMOD_GRD</th>\n",
       "      <th>GRG_GRD</th>\n",
       "    </tr>\n",
       "  </thead>\n",
       "  <tbody>\n",
       "    <tr>\n",
       "      <th>0</th>\n",
       "      <td>Control</td>\n",
       "      <td>F</td>\n",
       "      <td>8.52</td>\n",
       "      <td>0.353834</td>\n",
       "      <td>-0.079097</td>\n",
       "      <td>-0.142089</td>\n",
       "      <td>-0.098187</td>\n",
       "      <td>0.182184</td>\n",
       "      <td>0.136119</td>\n",
       "      <td>-0.136528</td>\n",
       "      <td>...</td>\n",
       "      <td>-0.227927</td>\n",
       "      <td>0.183839</td>\n",
       "      <td>0.024063</td>\n",
       "      <td>0.375259</td>\n",
       "      <td>0.291237</td>\n",
       "      <td>0.334427</td>\n",
       "      <td>0.422445</td>\n",
       "      <td>0.523587</td>\n",
       "      <td>0.556687</td>\n",
       "      <td>0.819152</td>\n",
       "    </tr>\n",
       "    <tr>\n",
       "      <th>1</th>\n",
       "      <td>Control</td>\n",
       "      <td>M</td>\n",
       "      <td>16.16</td>\n",
       "      <td>1.063398</td>\n",
       "      <td>-0.007951</td>\n",
       "      <td>-0.221031</td>\n",
       "      <td>-0.415336</td>\n",
       "      <td>-0.500766</td>\n",
       "      <td>0.711215</td>\n",
       "      <td>-0.166893</td>\n",
       "      <td>...</td>\n",
       "      <td>-0.118639</td>\n",
       "      <td>0.207211</td>\n",
       "      <td>0.211242</td>\n",
       "      <td>0.350441</td>\n",
       "      <td>0.297225</td>\n",
       "      <td>0.014917</td>\n",
       "      <td>0.089388</td>\n",
       "      <td>0.122101</td>\n",
       "      <td>0.084486</td>\n",
       "      <td>0.765234</td>\n",
       "    </tr>\n",
       "    <tr>\n",
       "      <th>2</th>\n",
       "      <td>Patient</td>\n",
       "      <td>M</td>\n",
       "      <td>17.75</td>\n",
       "      <td>1.268696</td>\n",
       "      <td>0.308791</td>\n",
       "      <td>0.250510</td>\n",
       "      <td>-0.044810</td>\n",
       "      <td>-0.015975</td>\n",
       "      <td>0.250217</td>\n",
       "      <td>-0.376892</td>\n",
       "      <td>...</td>\n",
       "      <td>0.000284</td>\n",
       "      <td>-0.257270</td>\n",
       "      <td>-0.211604</td>\n",
       "      <td>0.405767</td>\n",
       "      <td>0.455390</td>\n",
       "      <td>0.197229</td>\n",
       "      <td>0.422473</td>\n",
       "      <td>0.871838</td>\n",
       "      <td>0.769304</td>\n",
       "      <td>1.475135</td>\n",
       "    </tr>\n",
       "    <tr>\n",
       "      <th>3</th>\n",
       "      <td>Control</td>\n",
       "      <td>M</td>\n",
       "      <td>12.27</td>\n",
       "      <td>0.483665</td>\n",
       "      <td>0.056052</td>\n",
       "      <td>-0.199248</td>\n",
       "      <td>-0.114940</td>\n",
       "      <td>-0.006603</td>\n",
       "      <td>0.196900</td>\n",
       "      <td>-0.103025</td>\n",
       "      <td>...</td>\n",
       "      <td>-0.207249</td>\n",
       "      <td>-0.137101</td>\n",
       "      <td>-0.137722</td>\n",
       "      <td>0.214525</td>\n",
       "      <td>0.227899</td>\n",
       "      <td>0.390530</td>\n",
       "      <td>0.494048</td>\n",
       "      <td>0.469539</td>\n",
       "      <td>0.183129</td>\n",
       "      <td>0.874235</td>\n",
       "    </tr>\n",
       "    <tr>\n",
       "      <th>4</th>\n",
       "      <td>Control</td>\n",
       "      <td>F</td>\n",
       "      <td>12.07</td>\n",
       "      <td>0.735635</td>\n",
       "      <td>0.168888</td>\n",
       "      <td>0.069894</td>\n",
       "      <td>-0.466187</td>\n",
       "      <td>-0.212627</td>\n",
       "      <td>0.144734</td>\n",
       "      <td>-0.400744</td>\n",
       "      <td>...</td>\n",
       "      <td>-0.213785</td>\n",
       "      <td>-0.324647</td>\n",
       "      <td>-0.309591</td>\n",
       "      <td>0.434704</td>\n",
       "      <td>0.326873</td>\n",
       "      <td>0.011111</td>\n",
       "      <td>0.253135</td>\n",
       "      <td>0.660290</td>\n",
       "      <td>0.605073</td>\n",
       "      <td>0.835976</td>\n",
       "    </tr>\n",
       "  </tbody>\n",
       "</table>\n",
       "<p>5 rows × 381 columns</p>\n",
       "</div>"
      ],
      "text/plain": [
       "     Group Sex    Age   FAG_FAD   FAG_F1G   FAD_F1G   FAG_F1D   FAD_F1D  \\\n",
       "0  Control   F   8.52  0.353834 -0.079097 -0.142089 -0.098187  0.182184   \n",
       "1  Control   M  16.16  1.063398 -0.007951 -0.221031 -0.415336 -0.500766   \n",
       "2  Patient   M  17.75  1.268696  0.308791  0.250510 -0.044810 -0.015975   \n",
       "3  Control   M  12.27  0.483665  0.056052 -0.199248 -0.114940 -0.006603   \n",
       "4  Control   F  12.07  0.735635  0.168888  0.069894 -0.466187 -0.212627   \n",
       "\n",
       "    F1G_F1D  FAG_F1OG  ...   ORD_GRD  SMAG_GRD  SMAD_GRD  COBG_GRD  COBD_GRD  \\\n",
       "0  0.136119 -0.136528  ... -0.227927  0.183839  0.024063  0.375259  0.291237   \n",
       "1  0.711215 -0.166893  ... -0.118639  0.207211  0.211242  0.350441  0.297225   \n",
       "2  0.250217 -0.376892  ...  0.000284 -0.257270 -0.211604  0.405767  0.455390   \n",
       "3  0.196900 -0.103025  ... -0.207249 -0.137101 -0.137722  0.214525  0.227899   \n",
       "4  0.144734 -0.400744  ... -0.213785 -0.324647 -0.309591  0.434704  0.326873   \n",
       "\n",
       "    FMG_GRD   FMD_GRD  FMOG_GRD  FMOD_GRD   GRG_GRD  \n",
       "0  0.334427  0.422445  0.523587  0.556687  0.819152  \n",
       "1  0.014917  0.089388  0.122101  0.084486  0.765234  \n",
       "2  0.197229  0.422473  0.871838  0.769304  1.475135  \n",
       "3  0.390530  0.494048  0.469539  0.183129  0.874235  \n",
       "4  0.011111  0.253135  0.660290  0.605073  0.835976  \n",
       "\n",
       "[5 rows x 381 columns]"
      ]
     },
     "execution_count": 3,
     "metadata": {},
     "output_type": "execute_result"
    }
   ],
   "source": [
    "data = pd.read_csv(\n",
    "    '/Users/ljubomir/Documents/neurohackademy_2021/project/NBPy/data/sample_input_1.csv',\n",
    "    sep=\",\",\n",
    "    header=0\n",
    ").apply(pd.to_numeric, errors='ignore')\n",
    "data.columns = [c.replace('.', '_') for c in data.columns]\n",
    "data.head()"
   ]
  },
  {
   "cell_type": "markdown",
   "id": "7ffa55b3",
   "metadata": {},
   "source": [
    "### 2. Linear Models \n",
    "\n",
    "Generate two functions for calculating linear model by utilizing:\n",
    "- `statsmodels` library\n",
    "- `sklearn.linear_model` library\n",
    "\n",
    "Compare performance in terms of speed (execution time)"
   ]
  },
  {
   "cell_type": "code",
   "execution_count": 4,
   "id": "4e6d1125",
   "metadata": {},
   "outputs": [
    {
     "data": {
      "text/plain": [
       "Index(['FAG_FAD', 'FAG_F1G', 'FAD_F1G', 'FAG_F1D', 'FAD_F1D', 'F1G_F1D',\n",
       "       'FAG_F1OG', 'FAD_F1OG', 'F1G_F1OG', 'F1D_F1OG'],\n",
       "      dtype='object')"
      ]
     },
     "execution_count": 4,
     "metadata": {},
     "output_type": "execute_result"
    }
   ],
   "source": [
    "N = 1000\n",
    "endog_cols = data.drop(columns=predictor_cols).columns\n",
    "random_endogs = [endog_cols[r] for r in np.random.randint(0, endog_cols.shape[0], N)]\n",
    "endog_cols[:10]"
   ]
  },
  {
   "cell_type": "markdown",
   "id": "f7f03b55",
   "metadata": {},
   "source": [
    "#### 2a. Define statsmodel "
   ]
  },
  {
   "cell_type": "code",
   "execution_count": 5,
   "id": "91b0421d",
   "metadata": {},
   "outputs": [],
   "source": [
    "def fit_linear_model_stats(data, endog, exog_relation):\n",
    "    \"\"\"\n",
    "    Generate linear model with statsmodels.ols. \n",
    "    \"\"\"\n",
    "    \n",
    "    lm = smf.ols(\n",
    "        formula='%s ~ %s' % (endog, exog_relation), \n",
    "        data=data\n",
    "    ).fit()\n",
    "    \n",
    "    df_result = pd.concat([\n",
    "        lm.pvalues,\n",
    "        lm.tvalues,\n",
    "    ], axis=1)\n",
    "    df_result.columns = ['pvalues_%s' % endog, 'tvalues_%s' % endog]\n",
    "    return df_result.drop(index=['Intercept'])"
   ]
  },
  {
   "cell_type": "code",
   "execution_count": 6,
   "id": "21caacf7",
   "metadata": {},
   "outputs": [
    {
     "data": {
      "text/html": [
       "<div>\n",
       "<style scoped>\n",
       "    .dataframe tbody tr th:only-of-type {\n",
       "        vertical-align: middle;\n",
       "    }\n",
       "\n",
       "    .dataframe tbody tr th {\n",
       "        vertical-align: top;\n",
       "    }\n",
       "\n",
       "    .dataframe thead th {\n",
       "        text-align: right;\n",
       "    }\n",
       "</style>\n",
       "<table border=\"1\" class=\"dataframe\">\n",
       "  <thead>\n",
       "    <tr style=\"text-align: right;\">\n",
       "      <th></th>\n",
       "      <th>pvalues_FAG_FAD</th>\n",
       "      <th>tvalues_FAG_FAD</th>\n",
       "    </tr>\n",
       "  </thead>\n",
       "  <tbody>\n",
       "    <tr>\n",
       "      <th>Group[T.Patient]</th>\n",
       "      <td>0.217202</td>\n",
       "      <td>1.252376</td>\n",
       "    </tr>\n",
       "    <tr>\n",
       "      <th>Sex[T.M]</th>\n",
       "      <td>0.605337</td>\n",
       "      <td>0.520570</td>\n",
       "    </tr>\n",
       "    <tr>\n",
       "      <th>Age</th>\n",
       "      <td>0.355653</td>\n",
       "      <td>0.933738</td>\n",
       "    </tr>\n",
       "    <tr>\n",
       "      <th>Sex[T.M]:Age</th>\n",
       "      <td>0.604070</td>\n",
       "      <td>-0.522405</td>\n",
       "    </tr>\n",
       "  </tbody>\n",
       "</table>\n",
       "</div>"
      ],
      "text/plain": [
       "                  pvalues_FAG_FAD  tvalues_FAG_FAD\n",
       "Group[T.Patient]         0.217202         1.252376\n",
       "Sex[T.M]                 0.605337         0.520570\n",
       "Age                      0.355653         0.933738\n",
       "Sex[T.M]:Age             0.604070        -0.522405"
      ]
     },
     "execution_count": 6,
     "metadata": {},
     "output_type": "execute_result"
    }
   ],
   "source": [
    "df_stats = fit_linear_model_stats(data, data.columns[3], 'Group + Sex*Age')\n",
    "df_stats"
   ]
  },
  {
   "cell_type": "code",
   "execution_count": 7,
   "id": "445f8f1b",
   "metadata": {},
   "outputs": [
    {
     "name": "stdout",
     "output_type": "stream",
     "text": [
      "Statsmodel execution for 1000 randomly selected endog columns finished on average: 3.31 ± 0.73 [ms]\n"
     ]
    }
   ],
   "source": [
    "duration = []\n",
    "for endog in random_endogs:\n",
    "    st = time.time()\n",
    "    _ = fit_linear_model_stats(data, endog, 'Group + Sex*Age')\n",
    "    et = time.time()\n",
    "    dur = et - st\n",
    "    duration.append(dur * 10**3)\n",
    "print('Statsmodel execution for %d randomly selected endog columns finished on average: %.2f ± %.2f [ms]' % (N, np.mean(duration), np.std(duration)))"
   ]
  },
  {
   "cell_type": "markdown",
   "id": "01238302",
   "metadata": {},
   "source": [
    "#### 2b. Define sklearn"
   ]
  },
  {
   "cell_type": "code",
   "execution_count": 8,
   "id": "57f3c32d",
   "metadata": {},
   "outputs": [],
   "source": [
    "def data_preprocessing(data):\n",
    "    \"\"\"\n",
    "\n",
    "    :return:\n",
    "    \"\"\"\n",
    "    # Step 2a: Separate data into exog and edog\n",
    "    X = data[predictor_cols]\n",
    "\n",
    "    # Step 2b: create dummy values for categorical data in\n",
    "    column_types = X.dtypes\n",
    "    object_columns = column_types[column_types == 'object'].index\n",
    "    if object_columns.shape[0] > 0:\n",
    "        dummy_columns = pd.get_dummies(X[object_columns], drop_first=True)\n",
    "        X = pd.concat([dummy_columns, X], axis=1).drop(columns=object_columns)\n",
    "        # FIXME: we should read this from input, but atm we will keep it here as hardcoded\n",
    "        X['Sex_m_Age'] = X['Sex_M'] * X['Age']\n",
    "    else:\n",
    "        X['Sex_m_Age'] = X['Sex'] * X['Age']\n",
    "\n",
    "    return X"
   ]
  },
  {
   "cell_type": "code",
   "execution_count": 9,
   "id": "12e5e0dd",
   "metadata": {},
   "outputs": [],
   "source": [
    "def fit_linear_model_sklearn(data, endog, exog_relation):\n",
    "    \"\"\"\n",
    "\n",
    "    :param X:  input variables\n",
    "    :param y:  dependent variables\n",
    "    :return:\n",
    "    \"\"\"\n",
    "    \n",
    "    X = data_preprocessing(data)\n",
    "    y = data[endog]\n",
    "    \n",
    "    # Step 1: train model\n",
    "    lr_model = linear_model.LinearRegression().fit(\n",
    "        X,\n",
    "        y\n",
    "    )\n",
    "    # Step 2: prediction\n",
    "    predictions = lr_model.predict(X)\n",
    "\n",
    "    # Step 3: pval and tval calculation\n",
    "\n",
    "    # 3a: get coefficients and stack them with intercept\n",
    "    lr_parameters = np.append(lr_model.intercept_, lr_model.coef_)\n",
    "\n",
    "    # 3b: append 1s to input data (for intercept)\n",
    "    X_intercept = np.append(np.ones((len(X), 1)), X, axis=1)\n",
    "    # 3b: get mean squared error between true values and predictions and scale it\n",
    "    mse = np.sum((y - predictions) ** 2) / (X_intercept.shape[0] - X_intercept.shape[1])\n",
    "\n",
    "    # 3c: calculate invariant of input dataset (this might be tricky to do for larger matrix)\n",
    "    X_inv = np.linalg.inv(np.dot(X_intercept.T, X_intercept)).diagonal()\n",
    "\n",
    "    # 3d: estimate variance and standard deviation to calculate tvals\n",
    "    var = mse * X_inv\n",
    "    std = np.sqrt(var)\n",
    "    tvals = lr_parameters / std\n",
    "\n",
    "    # 3e: calculate pvalues\n",
    "    pvals = [2 * (1 - scipy.stats.t.cdf(np.abs(i), (X_intercept.shape[0] - X_intercept.shape[1]))) for i in tvals]\n",
    "\n",
    "    # 3f: save it in dataframe\n",
    "    index = ['Intercept'] + X.columns.tolist()\n",
    "    columns = ['pvals_%s' % endog, 'tvals_%s' % endog]\n",
    "    df_result = pd.DataFrame(\n",
    "        np.vstack((pvals, tvals)).T,\n",
    "        columns=columns,\n",
    "        index=index,\n",
    "    ).iloc[1:]\n",
    "\n",
    "    return df_result"
   ]
  },
  {
   "cell_type": "code",
   "execution_count": 10,
   "id": "500fee78",
   "metadata": {},
   "outputs": [
    {
     "data": {
      "text/html": [
       "<div>\n",
       "<style scoped>\n",
       "    .dataframe tbody tr th:only-of-type {\n",
       "        vertical-align: middle;\n",
       "    }\n",
       "\n",
       "    .dataframe tbody tr th {\n",
       "        vertical-align: top;\n",
       "    }\n",
       "\n",
       "    .dataframe thead th {\n",
       "        text-align: right;\n",
       "    }\n",
       "</style>\n",
       "<table border=\"1\" class=\"dataframe\">\n",
       "  <thead>\n",
       "    <tr style=\"text-align: right;\">\n",
       "      <th></th>\n",
       "      <th>pvals_FAG_FAD</th>\n",
       "      <th>tvals_FAG_FAD</th>\n",
       "    </tr>\n",
       "  </thead>\n",
       "  <tbody>\n",
       "    <tr>\n",
       "      <th>Group_Patient</th>\n",
       "      <td>0.217202</td>\n",
       "      <td>1.252376</td>\n",
       "    </tr>\n",
       "    <tr>\n",
       "      <th>Sex_M</th>\n",
       "      <td>0.605337</td>\n",
       "      <td>0.520570</td>\n",
       "    </tr>\n",
       "    <tr>\n",
       "      <th>Age</th>\n",
       "      <td>0.355653</td>\n",
       "      <td>0.933738</td>\n",
       "    </tr>\n",
       "    <tr>\n",
       "      <th>Sex_m_Age</th>\n",
       "      <td>0.604070</td>\n",
       "      <td>-0.522405</td>\n",
       "    </tr>\n",
       "  </tbody>\n",
       "</table>\n",
       "</div>"
      ],
      "text/plain": [
       "               pvals_FAG_FAD  tvals_FAG_FAD\n",
       "Group_Patient       0.217202       1.252376\n",
       "Sex_M               0.605337       0.520570\n",
       "Age                 0.355653       0.933738\n",
       "Sex_m_Age           0.604070      -0.522405"
      ]
     },
     "execution_count": 10,
     "metadata": {},
     "output_type": "execute_result"
    }
   ],
   "source": [
    "df_sklearn = fit_linear_model_sklearn(data, data.columns[3], 'Group + Sex*Age')\n",
    "df_sklearn"
   ]
  },
  {
   "cell_type": "markdown",
   "id": "399753d8",
   "metadata": {},
   "source": [
    "Compare if we get exactly the same matrix"
   ]
  },
  {
   "cell_type": "code",
   "execution_count": 11,
   "id": "fcd3d740",
   "metadata": {},
   "outputs": [
    {
     "data": {
      "text/plain": [
       "0.0"
      ]
     },
     "execution_count": 11,
     "metadata": {},
     "output_type": "execute_result"
    }
   ],
   "source": [
    "np.sum(np.sum((df_sklearn - df_stats) ** 2))"
   ]
  },
  {
   "cell_type": "code",
   "execution_count": 12,
   "id": "55ec708b",
   "metadata": {},
   "outputs": [
    {
     "name": "stdout",
     "output_type": "stream",
     "text": [
      "Sklearn execution for 1000 randomly selected endog columns finished on average: 4.13 ± 0.19 [ms]\n"
     ]
    }
   ],
   "source": [
    "duration = []\n",
    "for endog in random_endogs:\n",
    "    st = time.time()\n",
    "    _ = fit_linear_model_sklearn(data, endog, 'Group + Sex*Age')\n",
    "    et = time.time()\n",
    "    dur = et - st\n",
    "    duration.append(dur * 10**3)\n",
    "print('Sklearn execution for %d randomly selected endog columns finished on average: %.2f ± %.2f [ms]' % (N, np.mean(duration), np.std(duration)))"
   ]
  },
  {
   "cell_type": "markdown",
   "id": "dffea7ca",
   "metadata": {},
   "source": [
    "### 3. Linear Models Broadcast\n",
    "\n",
    "Our goal is to apply Linear Model on array/matrix of interconnection values, avoiding iterations/for loops. \n",
    "\n",
    "\n",
    "`statsmodel` can't provide this functionality, while `sklearn` can broadcast us complete matrix of coefficients. \n",
    "\n",
    "From offical `statsmodel` documentation:\n",
    "\n",
    "```\n",
    "Ordinary Least Squares\n",
    "\n",
    "Parameters\n",
    "\n",
    "    endogarray_like\n",
    "\n",
    "        A 1-d endogenous response variable. The dependent variable.\n",
    "    exogarray_like\n",
    "\n",
    "        A nobs x k array where nobs is the number of observations and k is the number of regressors. An intercept is not included by default and should be added by the user. See statsmodels.tools.add_constant.\n",
    "\n",
    "```"
   ]
  },
  {
   "cell_type": "code",
   "execution_count": 13,
   "id": "1164e49a",
   "metadata": {},
   "outputs": [
    {
     "ename": "ValueError",
     "evalue": "shapes (48,378) and (48,378) not aligned: 378 (dim 1) != 48 (dim 0)",
     "output_type": "error",
     "traceback": [
      "\u001b[0;31m---------------------------------------------------------------------------\u001b[0m",
      "\u001b[0;31mValueError\u001b[0m                                Traceback (most recent call last)",
      "\u001b[0;32m<ipython-input-13-5537a1f968cc>\u001b[0m in \u001b[0;36m<module>\u001b[0;34m\u001b[0m\n\u001b[1;32m      2\u001b[0m \u001b[0my\u001b[0m \u001b[0;34m=\u001b[0m \u001b[0mdata\u001b[0m\u001b[0;34m.\u001b[0m\u001b[0mdrop\u001b[0m\u001b[0;34m(\u001b[0m\u001b[0mcolumns\u001b[0m\u001b[0;34m=\u001b[0m\u001b[0mpredictor_cols\u001b[0m\u001b[0;34m)\u001b[0m\u001b[0;34m\u001b[0m\u001b[0;34m\u001b[0m\u001b[0m\n\u001b[1;32m      3\u001b[0m \u001b[0mmodel\u001b[0m \u001b[0;34m=\u001b[0m \u001b[0mslin\u001b[0m\u001b[0;34m.\u001b[0m\u001b[0mOLS\u001b[0m\u001b[0;34m(\u001b[0m\u001b[0my\u001b[0m\u001b[0;34m,\u001b[0m \u001b[0mX\u001b[0m\u001b[0;34m)\u001b[0m\u001b[0;34m.\u001b[0m\u001b[0mfit\u001b[0m\u001b[0;34m(\u001b[0m\u001b[0;34m)\u001b[0m\u001b[0;34m\u001b[0m\u001b[0;34m\u001b[0m\u001b[0m\n\u001b[0;32m----> 4\u001b[0;31m \u001b[0mmodel\u001b[0m\u001b[0;34m.\u001b[0m\u001b[0msummary\u001b[0m\u001b[0;34m(\u001b[0m\u001b[0;34m)\u001b[0m\u001b[0;34m\u001b[0m\u001b[0;34m\u001b[0m\u001b[0m\n\u001b[0m",
      "\u001b[0;32m~/.conda/envs/NBR/lib/python3.9/site-packages/statsmodels/regression/linear_model.py\u001b[0m in \u001b[0;36msummary\u001b[0;34m(self, yname, xname, title, alpha)\u001b[0m\n\u001b[1;32m   2638\u001b[0m         \u001b[0mrsquared_type\u001b[0m \u001b[0;34m=\u001b[0m \u001b[0;34m''\u001b[0m \u001b[0;32mif\u001b[0m \u001b[0mself\u001b[0m\u001b[0;34m.\u001b[0m\u001b[0mk_constant\u001b[0m \u001b[0;32melse\u001b[0m \u001b[0;34m' (uncentered)'\u001b[0m\u001b[0;34m\u001b[0m\u001b[0;34m\u001b[0m\u001b[0m\n\u001b[1;32m   2639\u001b[0m         top_right = [('R-squared' + rsquared_type + ':',\n\u001b[0;32m-> 2640\u001b[0;31m                       [\"%#8.3f\" % self.rsquared]),\n\u001b[0m\u001b[1;32m   2641\u001b[0m                      ('Adj. R-squared' + rsquared_type + ':',\n\u001b[1;32m   2642\u001b[0m                       [\"%#8.3f\" % self.rsquared_adj]),\n",
      "\u001b[0;32m~/.conda/envs/NBR/lib/python3.9/site-packages/pandas/_libs/properties.pyx\u001b[0m in \u001b[0;36mpandas._libs.properties.CachedProperty.__get__\u001b[0;34m()\u001b[0m\n",
      "\u001b[0;32m~/.conda/envs/NBR/lib/python3.9/site-packages/statsmodels/regression/linear_model.py\u001b[0m in \u001b[0;36mrsquared\u001b[0;34m(self)\u001b[0m\n\u001b[1;32m   1715\u001b[0m             \u001b[0;32mreturn\u001b[0m \u001b[0;36m1\u001b[0m \u001b[0;34m-\u001b[0m \u001b[0mself\u001b[0m\u001b[0;34m.\u001b[0m\u001b[0mssr\u001b[0m\u001b[0;34m/\u001b[0m\u001b[0mself\u001b[0m\u001b[0;34m.\u001b[0m\u001b[0mcentered_tss\u001b[0m\u001b[0;34m\u001b[0m\u001b[0;34m\u001b[0m\u001b[0m\n\u001b[1;32m   1716\u001b[0m         \u001b[0;32melse\u001b[0m\u001b[0;34m:\u001b[0m\u001b[0;34m\u001b[0m\u001b[0;34m\u001b[0m\u001b[0m\n\u001b[0;32m-> 1717\u001b[0;31m             \u001b[0;32mreturn\u001b[0m \u001b[0;36m1\u001b[0m \u001b[0;34m-\u001b[0m \u001b[0mself\u001b[0m\u001b[0;34m.\u001b[0m\u001b[0mssr\u001b[0m\u001b[0;34m/\u001b[0m\u001b[0mself\u001b[0m\u001b[0;34m.\u001b[0m\u001b[0muncentered_tss\u001b[0m\u001b[0;34m\u001b[0m\u001b[0;34m\u001b[0m\u001b[0m\n\u001b[0m\u001b[1;32m   1718\u001b[0m \u001b[0;34m\u001b[0m\u001b[0m\n\u001b[1;32m   1719\u001b[0m     \u001b[0;34m@\u001b[0m\u001b[0mcache_readonly\u001b[0m\u001b[0;34m\u001b[0m\u001b[0;34m\u001b[0m\u001b[0m\n",
      "\u001b[0;32m~/.conda/envs/NBR/lib/python3.9/site-packages/pandas/_libs/properties.pyx\u001b[0m in \u001b[0;36mpandas._libs.properties.CachedProperty.__get__\u001b[0;34m()\u001b[0m\n",
      "\u001b[0;32m~/.conda/envs/NBR/lib/python3.9/site-packages/statsmodels/regression/linear_model.py\u001b[0m in \u001b[0;36mssr\u001b[0;34m(self)\u001b[0m\n\u001b[1;32m   1654\u001b[0m         \u001b[0;34m\"\"\"Sum of squared (whitened) residuals.\"\"\"\u001b[0m\u001b[0;34m\u001b[0m\u001b[0;34m\u001b[0m\u001b[0m\n\u001b[1;32m   1655\u001b[0m         \u001b[0mwresid\u001b[0m \u001b[0;34m=\u001b[0m \u001b[0mself\u001b[0m\u001b[0;34m.\u001b[0m\u001b[0mwresid\u001b[0m\u001b[0;34m\u001b[0m\u001b[0;34m\u001b[0m\u001b[0m\n\u001b[0;32m-> 1656\u001b[0;31m         \u001b[0;32mreturn\u001b[0m \u001b[0mnp\u001b[0m\u001b[0;34m.\u001b[0m\u001b[0mdot\u001b[0m\u001b[0;34m(\u001b[0m\u001b[0mwresid\u001b[0m\u001b[0;34m,\u001b[0m \u001b[0mwresid\u001b[0m\u001b[0;34m)\u001b[0m\u001b[0;34m\u001b[0m\u001b[0;34m\u001b[0m\u001b[0m\n\u001b[0m\u001b[1;32m   1657\u001b[0m \u001b[0;34m\u001b[0m\u001b[0m\n\u001b[1;32m   1658\u001b[0m     \u001b[0;34m@\u001b[0m\u001b[0mcache_readonly\u001b[0m\u001b[0;34m\u001b[0m\u001b[0;34m\u001b[0m\u001b[0m\n",
      "\u001b[0;32m<__array_function__ internals>\u001b[0m in \u001b[0;36mdot\u001b[0;34m(*args, **kwargs)\u001b[0m\n",
      "\u001b[0;31mValueError\u001b[0m: shapes (48,378) and (48,378) not aligned: 378 (dim 1) != 48 (dim 0)"
     ]
    }
   ],
   "source": [
    "X = data_preprocessing(data)\n",
    "y = data.drop(columns=predictor_cols)\n",
    "model = slin.OLS(y, X).fit()\n",
    "model.summary()"
   ]
  },
  {
   "cell_type": "markdown",
   "id": "004ea0de",
   "metadata": {},
   "source": [
    "### 4. Conclusion\n",
    "\n",
    "Even thouhg statsmodel has better support for statistical calculations (ie. faster computation of p and t vals), p and t vals calculation is embedeed into package\n",
    "\n",
    "\n",
    "| Feature      | sklearn | statsmodels     |\n",
    "| :---        |    :----:   |          ---: |\n",
    "| P/T vals embedeed     | NO       | YES  |\n",
    "| R alike formula   | NO        | YES     |\n",
    "| Preprocessing categorical columns | YES | NO | \n",
    "| Speed [ms] | 3.3 | 4.1 | \n",
    "| __Broadcasting__ | __YES__ | NO | "
   ]
  },
  {
   "cell_type": "code",
   "execution_count": null,
   "id": "f541866b",
   "metadata": {},
   "outputs": [],
   "source": []
  }
 ],
 "metadata": {
  "kernelspec": {
   "display_name": "NBR",
   "language": "python",
   "name": "nbr"
  },
  "language_info": {
   "codemirror_mode": {
    "name": "ipython",
    "version": 3
   },
   "file_extension": ".py",
   "mimetype": "text/x-python",
   "name": "python",
   "nbconvert_exporter": "python",
   "pygments_lexer": "ipython3",
   "version": "3.9.5"
  }
 },
 "nbformat": 4,
 "nbformat_minor": 5
}
